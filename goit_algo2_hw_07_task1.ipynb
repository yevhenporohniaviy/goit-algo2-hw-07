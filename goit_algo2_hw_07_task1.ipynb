{
  "cells": [
    {
      "cell_type": "markdown",
      "id": "3f8db7c9",
      "metadata": {
        "id": "3f8db7c9"
      },
      "source": [
        "# Завдання 1: Оптимізація обробки запитів до масиву за допомогою LRU-кешу"
      ]
    },
    {
      "cell_type": "code",
      "execution_count": 1,
      "id": "90cfff8e",
      "metadata": {
        "id": "90cfff8e"
      },
      "outputs": [],
      "source": [
        "import random\n",
        "import time\n",
        "from collections import OrderedDict\n",
        "import matplotlib.pyplot as plt\n",
        "import pandas as pd"
      ]
    },
    {
      "cell_type": "code",
      "execution_count": 2,
      "id": "e07c631b",
      "metadata": {
        "id": "e07c631b"
      },
      "outputs": [],
      "source": [
        "class LRUCache:\n",
        "    def __init__(self, capacity):\n",
        "        self.capacity = capacity\n",
        "        self.cache = OrderedDict()\n",
        "\n",
        "    def get(self, key):\n",
        "        if key not in self.cache:\n",
        "            return None\n",
        "        self.cache.move_to_end(key)\n",
        "        return self.cache[key]\n",
        "\n",
        "    def put(self, key, value):\n",
        "        if key in self.cache:\n",
        "            self.cache.move_to_end(key)\n",
        "        self.cache[key] = value\n",
        "        if len(self.cache) > self.capacity:\n",
        "            self.cache.popitem(last=False)\n",
        "\n",
        "    def invalidate(self, index):\n",
        "        keys_to_remove = [key for key in self.cache if key[0] <= index <= key[1]]\n",
        "        for key in keys_to_remove:\n",
        "            del self.cache[key]"
      ]
    },
    {
      "cell_type": "code",
      "execution_count": 3,
      "id": "4834443a",
      "metadata": {
        "id": "4834443a"
      },
      "outputs": [],
      "source": [
        "def range_sum_no_cache(array, L, R):\n",
        "    return sum(array[L:R+1])\n",
        "\n",
        "def update_no_cache(array, index, value):\n",
        "    array[index] = value"
      ]
    },
    {
      "cell_type": "code",
      "execution_count": 4,
      "id": "f716e78e",
      "metadata": {
        "id": "f716e78e"
      },
      "outputs": [],
      "source": [
        "def range_sum_with_cache(array, L, R, cache):\n",
        "    cached = cache.get((L, R))\n",
        "    if cached is not None:\n",
        "        return cached\n",
        "    result = sum(array[L:R+1])\n",
        "    cache.put((L, R), result)\n",
        "    return result\n",
        "\n",
        "def update_with_cache(array, index, value, cache):\n",
        "    array[index] = value\n",
        "    cache.invalidate(index)"
      ]
    },
    {
      "cell_type": "code",
      "execution_count": 5,
      "id": "94395a03",
      "metadata": {
        "id": "94395a03"
      },
      "outputs": [],
      "source": [
        "N = 100_000\n",
        "Q = 50_000\n",
        "array = [random.randint(1, 100) for _ in range(N)]\n",
        "queries = []\n",
        "for _ in range(Q):\n",
        "    if random.random() < 0.7:\n",
        "        L = random.randint(0, N - 2)\n",
        "        R = random.randint(L, N - 1)\n",
        "        queries.append(('Range', L, R))\n",
        "    else:\n",
        "        idx = random.randint(0, N - 1)\n",
        "        val = random.randint(1, 100)\n",
        "        queries.append(('Update', idx, val))"
      ]
    },
    {
      "cell_type": "code",
      "execution_count": 7,
      "id": "858b5ec6",
      "metadata": {
        "colab": {
          "base_uri": "https://localhost:8080/"
        },
        "id": "858b5ec6",
        "outputId": "5934c06c-8e35-48c7-d740-97dc127e1fd1"
      },
      "outputs": [
        {
          "output_type": "stream",
          "name": "stdout",
          "text": [
            "Час виконання без кешу: 9.31 с\n",
            "Час виконання з кешем: 8.42 с\n"
          ]
        }
      ],
      "source": [
        "array_no_cache = array[:]\n",
        "start = time.time()\n",
        "for q in queries:\n",
        "    if q[0] == 'Range':\n",
        "        range_sum_no_cache(array_no_cache, q[1], q[2])\n",
        "    else:\n",
        "        update_no_cache(array_no_cache, q[1], q[2])\n",
        "no_cache_time = time.time() - start\n",
        "\n",
        "array_with_cache = array[:]\n",
        "cache = LRUCache(1000)\n",
        "start = time.time()\n",
        "for q in queries:\n",
        "    if q[0] == 'Range':\n",
        "        range_sum_with_cache(array_with_cache, q[1], q[2], cache)\n",
        "    else:\n",
        "        update_with_cache(array_with_cache, q[1], q[2], cache)\n",
        "cache_time = time.time() - start\n",
        "\n",
        "print(f\"Час виконання без кешу: {round(no_cache_time, 2)} с\")\n",
        "print(f\"Час виконання з кешем: {round(cache_time, 2)} с\")"
      ]
    }
  ],
  "metadata": {
    "colab": {
      "provenance": []
    },
    "language_info": {
      "name": "python"
    },
    "kernelspec": {
      "name": "python3",
      "display_name": "Python 3"
    }
  },
  "nbformat": 4,
  "nbformat_minor": 5
}