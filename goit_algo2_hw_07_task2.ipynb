{
  "cells": [
    {
      "cell_type": "markdown",
      "id": "1c004578",
      "metadata": {
        "id": "1c004578"
      },
      "source": [
        "# Порівняння продуктивності: LRU Cache vs Splay Tree для чисел Фібоначчі\n",
        "У цьому ноутбуці ми порівнюємо два підходи до кешування чисел Фібоначчі:\n",
        "- `@lru_cache` з модуля `functools`\n",
        "- Ручна реалізація `Splay Tree` з логікою кешування\n"
      ]
    },
    {
      "cell_type": "code",
      "execution_count": 1,
      "id": "69d2c627",
      "metadata": {
        "id": "69d2c627"
      },
      "outputs": [],
      "source": [
        "import timeit\n",
        "import matplotlib.pyplot as plt\n",
        "from functools import lru_cache\n",
        "import pandas as pd"
      ]
    },
    {
      "cell_type": "code",
      "execution_count": 2,
      "id": "9b1c0e3a",
      "metadata": {
        "id": "9b1c0e3a"
      },
      "outputs": [],
      "source": [
        "@lru_cache(maxsize=None)\n",
        "def fibonacci_lru(n):\n",
        "    if n <= 1:\n",
        "        return n\n",
        "    return fibonacci_lru(n - 1) + fibonacci_lru(n - 2)"
      ]
    },
    {
      "cell_type": "code",
      "execution_count": 3,
      "id": "ca7b8efc",
      "metadata": {
        "id": "ca7b8efc"
      },
      "outputs": [],
      "source": [
        "class SplayNode:\n",
        "    def __init__(self, key, value):\n",
        "        self.key = key\n",
        "        self.value = value\n",
        "        self.left = None\n",
        "        self.right = None\n",
        "\n",
        "class SplayTree:\n",
        "    def __init__(self):\n",
        "        self.root = None\n",
        "\n",
        "    def _zig(self, x):\n",
        "        p = x[1]\n",
        "        if p.left == x[0]:\n",
        "            p.left = x[0].right\n",
        "            x[0].right = p\n",
        "        else:\n",
        "            p.right = x[0].left\n",
        "            x[0].left = p\n",
        "        return x[0]\n",
        "\n",
        "    def _splay(self, root, key):\n",
        "        if root is None or root.key == key:\n",
        "            return root\n",
        "        if key < root.key:\n",
        "            if root.left is None:\n",
        "                return root\n",
        "            if key < root.left.key:\n",
        "                root.left.left = self._splay(root.left.left, key)\n",
        "                root = self._zig((root.left, root))\n",
        "            elif key > root.left.key:\n",
        "                root.left.right = self._splay(root.left.right, key)\n",
        "                if root.left.right:\n",
        "                    root.left = self._zig((root.left.right, root.left))\n",
        "            return self._zig((root.left, root)) if root.left else root\n",
        "        else:\n",
        "            if root.right is None:\n",
        "                return root\n",
        "            if key > root.right.key:\n",
        "                root.right.right = self._splay(root.right.right, key)\n",
        "                root = self._zig((root.right, root))\n",
        "            elif key < root.right.key:\n",
        "                root.right.left = self._splay(root.right.left, key)\n",
        "                if root.right.left:\n",
        "                    root.right = self._zig((root.right.left, root.right))\n",
        "            return self._zig((root.right, root)) if root.right else root\n",
        "\n",
        "    def insert(self, key, value):\n",
        "        if self.root is None:\n",
        "            self.root = SplayNode(key, value)\n",
        "            return\n",
        "        self.root = self._splay(self.root, key)\n",
        "        if self.root.key == key:\n",
        "            return\n",
        "        new_node = SplayNode(key, value)\n",
        "        if key < self.root.key:\n",
        "            new_node.right = self.root\n",
        "            new_node.left = self.root.left\n",
        "            self.root.left = None\n",
        "        else:\n",
        "            new_node.left = self.root\n",
        "            new_node.right = self.root.right\n",
        "            self.root.right = None\n",
        "        self.root = new_node\n",
        "\n",
        "    def get(self, key):\n",
        "        self.root = self._splay(self.root, key)\n",
        "        if self.root and self.root.key == key:\n",
        "            return self.root.value\n",
        "        return None"
      ]
    },
    {
      "cell_type": "code",
      "execution_count": null,
      "id": "0c88ba42",
      "metadata": {
        "id": "0c88ba42"
      },
      "outputs": [],
      "source": [
        "def fibonacci_splay(n, tree):\n",
        "    cached = tree.get(n)\n",
        "    if cached is not None:\n",
        "        return cached\n",
        "    if n <= 1:\n",
        "        tree.insert(n, n)\n",
        "        return n\n",
        "    value = fibonacci_splay(n - 1, tree) + fibonacci_splay(n - 2, tree)\n",
        "    tree.insert(n, value)\n",
        "    return value"
      ]
    },
    {
      "cell_type": "code",
      "execution_count": null,
      "id": "f5dd2cb9",
      "metadata": {
        "id": "f5dd2cb9"
      },
      "outputs": [],
      "source": [
        "test_values = list(range(0, 1000, 50))\n",
        "lru_times = []\n",
        "splay_times = []\n",
        "\n",
        "for n in test_values:\n",
        "    lru_time = timeit.timeit(lambda: fibonacci_lru(n), number=3) / 3\n",
        "    tree = SplayTree()\n",
        "    splay_time = timeit.timeit(lambda: fibonacci_splay(n, tree), number=3) / 3\n",
        "    lru_times.append(lru_time)\n",
        "    splay_times.append(splay_time)"
      ]
    },
    {
      "cell_type": "code",
      "execution_count": null,
      "id": "1bbbea32",
      "metadata": {
        "id": "1bbbea32"
      },
      "outputs": [],
      "source": [
        "plt.figure()\n",
        "plt.plot(test_values, lru_times, label='LRU Cache')\n",
        "plt.plot(test_values, splay_times, label='Splay Tree')\n",
        "plt.xlabel('n (Fibonacci Number Index)')\n",
        "plt.ylabel('Execution Time (seconds)')\n",
        "plt.title('Fibonacci Performance: LRU Cache vs Splay Tree')\n",
        "plt.legend()\n",
        "plt.grid(True)\n",
        "plt.show()"
      ]
    },
    {
      "cell_type": "code",
      "execution_count": null,
      "id": "eed97fa5",
      "metadata": {
        "id": "eed97fa5"
      },
      "outputs": [],
      "source": [
        "result_table = pd.DataFrame({\n",
        "    'n': test_values,\n",
        "    'LRU Cache Time (s)': lru_times,\n",
        "    'Splay Tree Time (s)': splay_times\n",
        "})\n",
        "print(result_table.to_string(index=False))"
      ]
    }
  ],
  "metadata": {
    "colab": {
      "provenance": []
    },
    "language_info": {
      "name": "python"
    },
    "kernelspec": {
      "name": "python3",
      "display_name": "Python 3"
    }
  },
  "nbformat": 4,
  "nbformat_minor": 5
}